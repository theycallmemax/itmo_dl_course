{
  "nbformat": 4,
  "nbformat_minor": 0,
  "metadata": {
    "colab": {
      "provenance": [],
      "gpuType": "T4"
    },
    "kernelspec": {
      "name": "python3",
      "display_name": "Python 3"
    },
    "language_info": {
      "name": "python"
    },
    "accelerator": "GPU"
  },
  "cells": [
    {
      "cell_type": "code",
      "execution_count": 369,
      "metadata": {
        "id": "8794KGlBQWWH"
      },
      "outputs": [],
      "source": [
        "import pandas as pd\n",
        "import numpy as np\n",
        "from sklearn.model_selection import train_test_split\n",
        "from sklearn.preprocessing import StandardScaler\n",
        "import torch\n",
        "from torch.utils.data import Dataset, DataLoader"
      ]
    },
    {
      "cell_type": "code",
      "source": [
        "import random\n",
        "import os\n",
        "\n",
        "def set_seed(seed: int = 42) -> None:\n",
        "    np.random.seed(seed)\n",
        "    random.seed(seed)\n",
        "    torch.manual_seed(seed)\n",
        "    torch.cuda.manual_seed(seed)\n",
        "    # When running on the CuDNN backend, two further options must be set\n",
        "    torch.backends.cudnn.deterministic = True\n",
        "    torch.backends.cudnn.benchmark = False\n",
        "    # Set a fixed value for the hash seed\n",
        "    os.environ[\"PYTHONHASHSEED\"] = str(seed)\n",
        "    print(f\"Random seed set as {seed}\")\n",
        "\n",
        "set_seed(42)"
      ],
      "metadata": {
        "colab": {
          "base_uri": "https://localhost:8080/"
        },
        "id": "pCsR35peQibr",
        "outputId": "5113b6ff-fbc6-45c1-ce92-8872d930cf24"
      },
      "execution_count": 370,
      "outputs": [
        {
          "output_type": "stream",
          "name": "stdout",
          "text": [
            "Random seed set as 42\n"
          ]
        }
      ]
    },
    {
      "cell_type": "code",
      "source": [
        "# Загрузка данных\n",
        "train_data = pd.read_csv('train.csv')\n",
        "test_data = pd.read_csv('test.csv')"
      ],
      "metadata": {
        "id": "ZGCNm9QfQsIv"
      },
      "execution_count": 371,
      "outputs": []
    },
    {
      "cell_type": "code",
      "source": [
        "print(train_data.isnull().sum())"
      ],
      "metadata": {
        "colab": {
          "base_uri": "https://localhost:8080/"
        },
        "id": "C7U91HILRXv2",
        "outputId": "d0acda71-fbc7-4d49-cb80-aac69b0c6292"
      },
      "execution_count": 372,
      "outputs": [
        {
          "output_type": "stream",
          "name": "stdout",
          "text": [
            "id                     0\n",
            "age                    0\n",
            "height(cm)             0\n",
            "weight(kg)             0\n",
            "waist(cm)              0\n",
            "eyesight(left)         0\n",
            "eyesight(right)        0\n",
            "hearing(left)          0\n",
            "hearing(right)         0\n",
            "systolic               0\n",
            "relaxation             0\n",
            "fasting blood sugar    0\n",
            "Cholesterol            0\n",
            "triglyceride           0\n",
            "HDL                    0\n",
            "LDL                    0\n",
            "hemoglobin             0\n",
            "Urine protein          0\n",
            "serum creatinine       0\n",
            "AST                    0\n",
            "ALT                    0\n",
            "Gtp                    0\n",
            "dental caries          0\n",
            "smoking                0\n",
            "dtype: int64\n"
          ]
        }
      ]
    },
    {
      "cell_type": "code",
      "source": [
        "train_data.dtypes"
      ],
      "metadata": {
        "colab": {
          "base_uri": "https://localhost:8080/",
          "height": 837
        },
        "id": "2Wk5foBqRz_n",
        "outputId": "68e7070b-bbbe-4232-9582-87cda6f97ff7"
      },
      "execution_count": 373,
      "outputs": [
        {
          "output_type": "execute_result",
          "data": {
            "text/plain": [
              "id                       int64\n",
              "age                    float64\n",
              "height(cm)             float64\n",
              "weight(kg)             float64\n",
              "waist(cm)              float64\n",
              "eyesight(left)         float64\n",
              "eyesight(right)        float64\n",
              "hearing(left)          float64\n",
              "hearing(right)         float64\n",
              "systolic               float64\n",
              "relaxation             float64\n",
              "fasting blood sugar    float64\n",
              "Cholesterol            float64\n",
              "triglyceride           float64\n",
              "HDL                    float64\n",
              "LDL                    float64\n",
              "hemoglobin             float64\n",
              "Urine protein          float64\n",
              "serum creatinine       float64\n",
              "AST                    float64\n",
              "ALT                    float64\n",
              "Gtp                    float64\n",
              "dental caries          float64\n",
              "smoking                float64\n",
              "dtype: object"
            ],
            "text/html": [
              "<div>\n",
              "<style scoped>\n",
              "    .dataframe tbody tr th:only-of-type {\n",
              "        vertical-align: middle;\n",
              "    }\n",
              "\n",
              "    .dataframe tbody tr th {\n",
              "        vertical-align: top;\n",
              "    }\n",
              "\n",
              "    .dataframe thead th {\n",
              "        text-align: right;\n",
              "    }\n",
              "</style>\n",
              "<table border=\"1\" class=\"dataframe\">\n",
              "  <thead>\n",
              "    <tr style=\"text-align: right;\">\n",
              "      <th></th>\n",
              "      <th>0</th>\n",
              "    </tr>\n",
              "  </thead>\n",
              "  <tbody>\n",
              "    <tr>\n",
              "      <th>id</th>\n",
              "      <td>int64</td>\n",
              "    </tr>\n",
              "    <tr>\n",
              "      <th>age</th>\n",
              "      <td>float64</td>\n",
              "    </tr>\n",
              "    <tr>\n",
              "      <th>height(cm)</th>\n",
              "      <td>float64</td>\n",
              "    </tr>\n",
              "    <tr>\n",
              "      <th>weight(kg)</th>\n",
              "      <td>float64</td>\n",
              "    </tr>\n",
              "    <tr>\n",
              "      <th>waist(cm)</th>\n",
              "      <td>float64</td>\n",
              "    </tr>\n",
              "    <tr>\n",
              "      <th>eyesight(left)</th>\n",
              "      <td>float64</td>\n",
              "    </tr>\n",
              "    <tr>\n",
              "      <th>eyesight(right)</th>\n",
              "      <td>float64</td>\n",
              "    </tr>\n",
              "    <tr>\n",
              "      <th>hearing(left)</th>\n",
              "      <td>float64</td>\n",
              "    </tr>\n",
              "    <tr>\n",
              "      <th>hearing(right)</th>\n",
              "      <td>float64</td>\n",
              "    </tr>\n",
              "    <tr>\n",
              "      <th>systolic</th>\n",
              "      <td>float64</td>\n",
              "    </tr>\n",
              "    <tr>\n",
              "      <th>relaxation</th>\n",
              "      <td>float64</td>\n",
              "    </tr>\n",
              "    <tr>\n",
              "      <th>fasting blood sugar</th>\n",
              "      <td>float64</td>\n",
              "    </tr>\n",
              "    <tr>\n",
              "      <th>Cholesterol</th>\n",
              "      <td>float64</td>\n",
              "    </tr>\n",
              "    <tr>\n",
              "      <th>triglyceride</th>\n",
              "      <td>float64</td>\n",
              "    </tr>\n",
              "    <tr>\n",
              "      <th>HDL</th>\n",
              "      <td>float64</td>\n",
              "    </tr>\n",
              "    <tr>\n",
              "      <th>LDL</th>\n",
              "      <td>float64</td>\n",
              "    </tr>\n",
              "    <tr>\n",
              "      <th>hemoglobin</th>\n",
              "      <td>float64</td>\n",
              "    </tr>\n",
              "    <tr>\n",
              "      <th>Urine protein</th>\n",
              "      <td>float64</td>\n",
              "    </tr>\n",
              "    <tr>\n",
              "      <th>serum creatinine</th>\n",
              "      <td>float64</td>\n",
              "    </tr>\n",
              "    <tr>\n",
              "      <th>AST</th>\n",
              "      <td>float64</td>\n",
              "    </tr>\n",
              "    <tr>\n",
              "      <th>ALT</th>\n",
              "      <td>float64</td>\n",
              "    </tr>\n",
              "    <tr>\n",
              "      <th>Gtp</th>\n",
              "      <td>float64</td>\n",
              "    </tr>\n",
              "    <tr>\n",
              "      <th>dental caries</th>\n",
              "      <td>float64</td>\n",
              "    </tr>\n",
              "    <tr>\n",
              "      <th>smoking</th>\n",
              "      <td>float64</td>\n",
              "    </tr>\n",
              "  </tbody>\n",
              "</table>\n",
              "</div><br><label><b>dtype:</b> object</label>"
            ]
          },
          "metadata": {},
          "execution_count": 373
        }
      ]
    },
    {
      "cell_type": "markdown",
      "source": [
        "Пробуем фича инжиниринг"
      ],
      "metadata": {
        "id": "OuX2rkqfJ9u6"
      }
    },
    {
      "cell_type": "code",
      "source": [
        "# Заменяем нули на небольшие значения\n",
        "train_data['weight(kg)'].replace(0, 0.1, inplace=True)\n",
        "train_data['height(cm)'].replace(0, 0.1, inplace=True)\n",
        "test_data['weight(kg)'].replace(0, 0.1, inplace=True)\n",
        "test_data['height(cm)'].replace(0, 0.1, inplace=True)\n"
      ],
      "metadata": {
        "colab": {
          "base_uri": "https://localhost:8080/"
        },
        "id": "aw6_SIsDyBbx",
        "outputId": "e395dd00-0879-43f2-b198-56e4304d6c73"
      },
      "execution_count": 374,
      "outputs": [
        {
          "output_type": "stream",
          "name": "stderr",
          "text": [
            "<ipython-input-374-7b5923765004>:2: FutureWarning: A value is trying to be set on a copy of a DataFrame or Series through chained assignment using an inplace method.\n",
            "The behavior will change in pandas 3.0. This inplace method will never work because the intermediate object on which we are setting values always behaves as a copy.\n",
            "\n",
            "For example, when doing 'df[col].method(value, inplace=True)', try using 'df.method({col: value}, inplace=True)' or df[col] = df[col].method(value) instead, to perform the operation inplace on the original object.\n",
            "\n",
            "\n",
            "  train_data['weight(kg)'].replace(0, 0.1, inplace=True)\n",
            "<ipython-input-374-7b5923765004>:3: FutureWarning: A value is trying to be set on a copy of a DataFrame or Series through chained assignment using an inplace method.\n",
            "The behavior will change in pandas 3.0. This inplace method will never work because the intermediate object on which we are setting values always behaves as a copy.\n",
            "\n",
            "For example, when doing 'df[col].method(value, inplace=True)', try using 'df.method({col: value}, inplace=True)' or df[col] = df[col].method(value) instead, to perform the operation inplace on the original object.\n",
            "\n",
            "\n",
            "  train_data['height(cm)'].replace(0, 0.1, inplace=True)\n",
            "<ipython-input-374-7b5923765004>:4: FutureWarning: A value is trying to be set on a copy of a DataFrame or Series through chained assignment using an inplace method.\n",
            "The behavior will change in pandas 3.0. This inplace method will never work because the intermediate object on which we are setting values always behaves as a copy.\n",
            "\n",
            "For example, when doing 'df[col].method(value, inplace=True)', try using 'df.method({col: value}, inplace=True)' or df[col] = df[col].method(value) instead, to perform the operation inplace on the original object.\n",
            "\n",
            "\n",
            "  test_data['weight(kg)'].replace(0, 0.1, inplace=True)\n",
            "<ipython-input-374-7b5923765004>:5: FutureWarning: A value is trying to be set on a copy of a DataFrame or Series through chained assignment using an inplace method.\n",
            "The behavior will change in pandas 3.0. This inplace method will never work because the intermediate object on which we are setting values always behaves as a copy.\n",
            "\n",
            "For example, when doing 'df[col].method(value, inplace=True)', try using 'df.method({col: value}, inplace=True)' or df[col] = df[col].method(value) instead, to perform the operation inplace on the original object.\n",
            "\n",
            "\n",
            "  test_data['height(cm)'].replace(0, 0.1, inplace=True)\n"
          ]
        }
      ]
    },
    {
      "cell_type": "code",
      "source": [
        "# Добавление новых признаков\n",
        "train_data['BMI'] = train_data['weight(kg)'] / ((train_data['height(cm)'] / 100) ** 2)\n",
        "test_data['BMI'] = test_data['weight(kg)'] / ((test_data['height(cm)'] / 100) ** 2)\n",
        "\n",
        "# Проверяем пропуски после разбиения на группы\n",
        "train_data['age_group'] = pd.cut(train_data['age'], bins=[0, 20, 40, 60, 80], labels=[0, 1, 2, 3])\n",
        "test_data['age_group'] = pd.cut(test_data['age'], bins=[0, 20, 40, 60, 80], labels=[0, 1, 2, 3])\n",
        "\n",
        "# Заполняем пропуски, если они есть\n",
        "train_data['age_group'].fillna(0, inplace=True)\n",
        "test_data['age_group'].fillna(0, inplace=True)\n",
        "\n",
        "\n",
        "train_data['height_weight_ratio'] = train_data['height(cm)'] / train_data['weight(kg)']\n",
        "test_data['height_weight_ratio'] = test_data['height(cm)'] / test_data['weight(kg)']\n"
      ],
      "metadata": {
        "colab": {
          "base_uri": "https://localhost:8080/"
        },
        "id": "ZmmQ8IdSxOPf",
        "outputId": "96cf55ec-6b0a-418b-c608-d8b91dae35f3"
      },
      "execution_count": 375,
      "outputs": [
        {
          "output_type": "stream",
          "name": "stderr",
          "text": [
            "<ipython-input-375-b2c45fd004f6>:10: FutureWarning: A value is trying to be set on a copy of a DataFrame or Series through chained assignment using an inplace method.\n",
            "The behavior will change in pandas 3.0. This inplace method will never work because the intermediate object on which we are setting values always behaves as a copy.\n",
            "\n",
            "For example, when doing 'df[col].method(value, inplace=True)', try using 'df.method({col: value}, inplace=True)' or df[col] = df[col].method(value) instead, to perform the operation inplace on the original object.\n",
            "\n",
            "\n",
            "  train_data['age_group'].fillna(0, inplace=True)\n",
            "<ipython-input-375-b2c45fd004f6>:11: FutureWarning: A value is trying to be set on a copy of a DataFrame or Series through chained assignment using an inplace method.\n",
            "The behavior will change in pandas 3.0. This inplace method will never work because the intermediate object on which we are setting values always behaves as a copy.\n",
            "\n",
            "For example, when doing 'df[col].method(value, inplace=True)', try using 'df.method({col: value}, inplace=True)' or df[col] = df[col].method(value) instead, to perform the operation inplace on the original object.\n",
            "\n",
            "\n",
            "  test_data['age_group'].fillna(0, inplace=True)\n"
          ]
        }
      ]
    },
    {
      "cell_type": "markdown",
      "source": [
        "Выделяем целевую переменную"
      ],
      "metadata": {
        "id": "rq0NIPE_oCIP"
      }
    },
    {
      "cell_type": "code",
      "source": [
        "X = train_data.drop(columns=['id', 'smoking'])\n",
        "y = train_data['smoking']"
      ],
      "metadata": {
        "id": "eH3-roW-R9XG"
      },
      "execution_count": 376,
      "outputs": []
    },
    {
      "cell_type": "markdown",
      "source": [
        "Нормализация данных"
      ],
      "metadata": {
        "id": "uf29-SgtR51U"
      }
    },
    {
      "cell_type": "code",
      "source": [
        "scaler = StandardScaler()\n",
        "X_scaled = scaler.fit_transform(X)\n",
        "test_data_scaled = scaler.transform(test_data.drop(columns=['id']))"
      ],
      "metadata": {
        "id": "0wDH2ZgaR30s"
      },
      "execution_count": 377,
      "outputs": []
    },
    {
      "cell_type": "markdown",
      "source": [
        "Разделение на трейн и вал выборки"
      ],
      "metadata": {
        "id": "AqFAB763o6LS"
      }
    },
    {
      "cell_type": "code",
      "source": [
        "X_train, X_val, y_train, y_val = train_test_split(X_scaled, y, test_size=0.2, random_state=42, stratify=y)"
      ],
      "metadata": {
        "id": "lmHWKJaxSCpa"
      },
      "execution_count": 378,
      "outputs": []
    },
    {
      "cell_type": "markdown",
      "source": [
        "Преобразование в PyTorch тензоры"
      ],
      "metadata": {
        "id": "7f1wgiOno_AL"
      }
    },
    {
      "cell_type": "code",
      "source": [
        "X_train_tensor = torch.tensor(X_train, dtype=torch.float32)\n",
        "y_train_tensor = torch.tensor(y_train.values, dtype=torch.float32).unsqueeze(1)\n",
        "X_val_tensor = torch.tensor(X_val, dtype=torch.float32)\n",
        "y_val_tensor = torch.tensor(y_val.values, dtype=torch.float32).unsqueeze(1)\n",
        "X_test_tensor = torch.tensor(test_data_scaled, dtype=torch.float32)"
      ],
      "metadata": {
        "id": "vKKCijC3SLBF"
      },
      "execution_count": 379,
      "outputs": []
    },
    {
      "cell_type": "markdown",
      "source": [
        "Определение пользовательского Dataset и DataLoader"
      ],
      "metadata": {
        "id": "ubfBtBH_o2It"
      }
    },
    {
      "cell_type": "code",
      "source": [
        "class SmokingDataset(Dataset):\n",
        "    def __init__(self, features, labels):\n",
        "        self.features = features\n",
        "        self.labels = labels\n",
        "\n",
        "    def __len__(self):\n",
        "        return len(self.features)\n",
        "\n",
        "    def __getitem__(self, idx):\n",
        "        return self.features[idx], self.labels[idx]\n",
        "\n",
        "# Датасеты и DataLoader\n",
        "train_dataset = SmokingDataset(X_train_tensor, y_train_tensor)\n",
        "val_dataset = SmokingDataset(X_val_tensor, y_val_tensor)\n",
        "\n",
        "train_loader = DataLoader(train_dataset, batch_size=64, shuffle=True)\n",
        "val_loader = DataLoader(val_dataset, batch_size=64, shuffle=False)\n"
      ],
      "metadata": {
        "id": "0yvRa3pnSOBg"
      },
      "execution_count": 380,
      "outputs": []
    },
    {
      "cell_type": "markdown",
      "source": [
        "Определение нейронной сети"
      ],
      "metadata": {
        "id": "8NX90DgMSQg4"
      }
    },
    {
      "cell_type": "code",
      "source": [
        "import torch.nn as nn\n",
        "import torch.optim as optim\n",
        "\n",
        "class SmokingModel(nn.Module):\n",
        "    def __init__(self, input_size):\n",
        "        super(SmokingModel, self).__init__()\n",
        "        self.model = nn.Sequential(\n",
        "                        nn.Linear(input_size, 256),\n",
        "                        nn.ReLU(),\n",
        "                        nn.Dropout(0.6),\n",
        "                        nn.Linear(256, 128),\n",
        "                        nn.ReLU(),\n",
        "                        nn.Dropout(0.6),\n",
        "                        nn.Linear(128, 64),\n",
        "                        nn.ReLU(),\n",
        "                        nn.Linear(64, 1),\n",
        "                        nn.Sigmoid()\n",
        "                    )\n",
        "\n",
        "    def forward(self, x):\n",
        "        return self.model(x)\n",
        "\n",
        "\n",
        "# Инициализация модели\n",
        "input_size = X_train.shape[1]\n",
        "model = SmokingModel(input_size)\n",
        "\n",
        "# Определение функции потерь и оптимизатора\n",
        "criterion = nn.BCELoss()\n",
        "optimizer = optim.Adam(model.parameters(), lr=0.0005, weight_decay=1e-5)\n"
      ],
      "metadata": {
        "id": "J_F6MRHKSRta"
      },
      "execution_count": 381,
      "outputs": []
    },
    {
      "cell_type": "code",
      "source": [
        "class_distribution = y.value_counts()\n",
        "print(class_distribution)\n",
        "\n",
        "# Рассчитайте долю каждого класса\n",
        "class_ratios = class_distribution / len(y)\n",
        "print(f\"Class Ratios: {class_ratios}\")\n"
      ],
      "metadata": {
        "colab": {
          "base_uri": "https://localhost:8080/"
        },
        "id": "hZqU5SbjvOG8",
        "outputId": "6532ad60-fe24-47e2-93da-c7450ff0e188"
      },
      "execution_count": 382,
      "outputs": [
        {
          "output_type": "stream",
          "name": "stdout",
          "text": [
            "smoking\n",
            "0.0    9443\n",
            "1.0    5557\n",
            "Name: count, dtype: int64\n",
            "Class Ratios: smoking\n",
            "0.0    0.629533\n",
            "1.0    0.370467\n",
            "Name: count, dtype: float64\n"
          ]
        }
      ]
    },
    {
      "cell_type": "code",
      "source": [
        "device = torch.device('cuda' if torch.cuda.is_available() else 'cpu')\n",
        "print(device)\n",
        "model = model.to(device)"
      ],
      "metadata": {
        "colab": {
          "base_uri": "https://localhost:8080/"
        },
        "id": "zmBV1WOJTx9C",
        "outputId": "c2fdd537-b2ac-44fd-df5a-bd7cdb670857"
      },
      "execution_count": 383,
      "outputs": [
        {
          "output_type": "stream",
          "name": "stdout",
          "text": [
            "cuda\n"
          ]
        }
      ]
    },
    {
      "cell_type": "markdown",
      "source": [
        "Реализация Early Stopping и Cyclic Learning Rate"
      ],
      "metadata": {
        "id": "0F_wdyjzpIhQ"
      }
    },
    {
      "cell_type": "code",
      "source": [
        "class EarlyStopping:\n",
        "    def __init__(self, patience=5, delta=0, verbose=False):\n",
        "        self.patience = patience\n",
        "        self.delta = delta\n",
        "        self.verbose = verbose\n",
        "        self.best_score = None\n",
        "        self.early_stop = False\n",
        "        self.counter = 0\n",
        "\n",
        "    def __call__(self, val_loss, model):\n",
        "        score = -val_loss\n",
        "        if self.best_score is None:\n",
        "            self.best_score = score\n",
        "            self.save_checkpoint(val_loss, model)\n",
        "        elif score < self.best_score + self.delta:\n",
        "            self.counter += 1\n",
        "            if self.verbose:\n",
        "                print(f\"EarlyStopping: {self.counter}/{self.patience}\")\n",
        "            if self.counter >= self.patience:\n",
        "                self.early_stop = True\n",
        "        else:\n",
        "            self.best_score = score\n",
        "            self.save_checkpoint(val_loss, model)\n",
        "            self.counter = 0\n",
        "\n",
        "    def save_checkpoint(self, val_loss, model):\n",
        "        \"\"\"Сохранение лучшей модели\"\"\"\n",
        "        torch.save(model.state_dict(), 'checkpoint.pth')\n",
        "        if self.verbose:\n",
        "            print(f\"Validation loss improved. Saving model... New val_loss: {val_loss:.4f}\")\n"
      ],
      "metadata": {
        "id": "4KPne9J1mHpA"
      },
      "execution_count": 384,
      "outputs": []
    },
    {
      "cell_type": "markdown",
      "source": [
        "Обучаем модель"
      ],
      "metadata": {
        "id": "J7SBf_TGnzGx"
      }
    },
    {
      "cell_type": "code",
      "source": [
        "import matplotlib.pyplot as plt\n",
        "\n",
        "def plot_training_curves(train_losses, val_losses):\n",
        "    plt.plot(train_losses, label='Train Loss')\n",
        "    plt.plot(val_losses, label='Validation Loss')\n",
        "    plt.xlabel('Epochs')\n",
        "    plt.ylabel('Loss')\n",
        "    plt.legend()\n",
        "    plt.title('Training and Validation Loss')\n",
        "    plt.show()\n"
      ],
      "metadata": {
        "id": "x1H1uHPsmQoS"
      },
      "execution_count": 385,
      "outputs": []
    },
    {
      "cell_type": "code",
      "source": [
        "from torch.optim.lr_scheduler import CyclicLR\n",
        "from torch.optim.lr_scheduler import ReduceLROnPlateau\n",
        "\n",
        "scheduler = CyclicLR(optimizer, base_lr=5e-4, max_lr=5e-3, step_size_up=10, mode='triangular')\n",
        "\n",
        "reduce_on_plateau = ReduceLROnPlateau(optimizer, mode='min', factor=0.5, patience=3, verbose=True)\n",
        "\n",
        "\n",
        "# Инициализация Early Stopping\n",
        "early_stopping = EarlyStopping(patience=5, verbose=True)\n",
        "\n",
        "def train_model_with_early_stopping(model, train_loader, val_loader, criterion, optimizer, scheduler, epochs=50):\n",
        "    train_losses = []\n",
        "    val_losses = []\n",
        "\n",
        "    for epoch in range(epochs):\n",
        "        model.train()\n",
        "        train_loss = 0.0\n",
        "        for X_batch, y_batch in train_loader:\n",
        "            X_batch, y_batch = X_batch.to(device), y_batch.to(device)\n",
        "\n",
        "            optimizer.zero_grad()\n",
        "            y_pred = model(X_batch)\n",
        "            loss = criterion(y_pred, y_batch)\n",
        "            loss.backward()\n",
        "            optimizer.step()\n",
        "            scheduler.step()\n",
        "\n",
        "            train_loss += loss.item()\n",
        "\n",
        "        model.eval()\n",
        "        val_loss = 0.0\n",
        "        with torch.no_grad():\n",
        "            for X_batch, y_batch in val_loader:\n",
        "                X_batch, y_batch = X_batch.to(device), y_batch.to(device)\n",
        "                y_pred = model(X_batch)\n",
        "                loss = criterion(y_pred, y_batch)\n",
        "                val_loss += loss.item()\n",
        "\n",
        "        val_loss /= len(val_loader)\n",
        "        train_loss /= len(train_loader)\n",
        "\n",
        "        train_losses.append(train_loss)  # Сохраняем train loss\n",
        "        val_losses.append(val_loss)  # Сохраняем val loss\n",
        "\n",
        "        print(f\"Epoch {epoch + 1}/{epochs} - Train Loss: {train_loss:.4f} - Val Loss: {val_loss:.4f}\")\n",
        "\n",
        "        early_stopping(val_loss, model)\n",
        "        if early_stopping.early_stop:\n",
        "            print(\"Early stopping triggered!\")\n",
        "            break\n",
        "\n",
        "    # Построение графика потерь\n",
        "    plot_training_curves(train_losses, val_losses)"
      ],
      "metadata": {
        "id": "Bf2v_Pc0SXEJ",
        "colab": {
          "base_uri": "https://localhost:8080/"
        },
        "outputId": "81aeab73-42f5-400a-ec95-8212e3a228ec"
      },
      "execution_count": 386,
      "outputs": [
        {
          "output_type": "stream",
          "name": "stderr",
          "text": [
            "/usr/local/lib/python3.11/dist-packages/torch/optim/lr_scheduler.py:62: UserWarning: The verbose parameter is deprecated. Please use get_last_lr() to access the learning rate.\n",
            "  warnings.warn(\n"
          ]
        }
      ]
    },
    {
      "cell_type": "code",
      "source": [
        "train_model_with_early_stopping(model, train_loader, val_loader, criterion, optimizer, scheduler, epochs=150)"
      ],
      "metadata": {
        "colab": {
          "base_uri": "https://localhost:8080/",
          "height": 1000
        },
        "id": "_pXy7I7Gpgha",
        "outputId": "558ed077-fd39-4a2e-e4f8-125dd69f9d59"
      },
      "execution_count": 387,
      "outputs": [
        {
          "output_type": "stream",
          "name": "stdout",
          "text": [
            "Epoch 1/150 - Train Loss: 0.4612 - Val Loss: 0.4137\n",
            "Validation loss improved. Saving model... New val_loss: 0.4137\n",
            "Epoch 2/150 - Train Loss: 0.4286 - Val Loss: 0.4035\n",
            "Validation loss improved. Saving model... New val_loss: 0.4035\n",
            "Epoch 3/150 - Train Loss: 0.4237 - Val Loss: 0.4041\n",
            "EarlyStopping: 1/5\n",
            "Epoch 4/150 - Train Loss: 0.4213 - Val Loss: 0.4019\n",
            "Validation loss improved. Saving model... New val_loss: 0.4019\n",
            "Epoch 5/150 - Train Loss: 0.4161 - Val Loss: 0.4008\n",
            "Validation loss improved. Saving model... New val_loss: 0.4008\n",
            "Epoch 6/150 - Train Loss: 0.4134 - Val Loss: 0.3974\n",
            "Validation loss improved. Saving model... New val_loss: 0.3974\n",
            "Epoch 7/150 - Train Loss: 0.4115 - Val Loss: 0.3996\n",
            "EarlyStopping: 1/5\n",
            "Epoch 8/150 - Train Loss: 0.4087 - Val Loss: 0.3992\n",
            "EarlyStopping: 2/5\n",
            "Epoch 9/150 - Train Loss: 0.4203 - Val Loss: 0.3984\n",
            "EarlyStopping: 3/5\n",
            "Epoch 10/150 - Train Loss: 0.4117 - Val Loss: 0.4054\n",
            "EarlyStopping: 4/5\n",
            "Epoch 11/150 - Train Loss: 0.4082 - Val Loss: 0.3951\n",
            "Validation loss improved. Saving model... New val_loss: 0.3951\n",
            "Epoch 12/150 - Train Loss: 0.4064 - Val Loss: 0.3986\n",
            "EarlyStopping: 1/5\n",
            "Epoch 13/150 - Train Loss: 0.4048 - Val Loss: 0.3982\n",
            "EarlyStopping: 2/5\n",
            "Epoch 14/150 - Train Loss: 0.4085 - Val Loss: 0.3960\n",
            "EarlyStopping: 3/5\n",
            "Epoch 15/150 - Train Loss: 0.4048 - Val Loss: 0.4010\n",
            "EarlyStopping: 4/5\n",
            "Epoch 16/150 - Train Loss: 0.4026 - Val Loss: 0.3958\n",
            "EarlyStopping: 5/5\n",
            "Early stopping triggered!\n"
          ]
        },
        {
          "output_type": "display_data",
          "data": {
            "text/plain": [
              "<Figure size 640x480 with 1 Axes>"
            ],
            "image/png": "[encoded data removed]"
          },
          "metadata": {}
        }
      ]
    },
    {
      "cell_type": "markdown",
      "source": [
        " Вычисление метрик"
      ],
      "metadata": {
        "id": "LRc4rF3kppT8"
      }
    },
    {
      "cell_type": "code",
      "source": [
        "from sklearn.metrics import roc_auc_score, f1_score, precision_score, recall_score, accuracy_score\n",
        "\n",
        "# Вычисление метрик на валидационных данных\n",
        "model.eval()\n",
        "with torch.no_grad():\n",
        "    y_val_pred_proba = model(X_val_tensor.to(device)).cpu().numpy().flatten()\n",
        "    y_val_pred = (y_val_pred_proba >= 0.5).astype(int)\n",
        "\n",
        "# Вычисление метрик\n",
        "roc_auc = roc_auc_score(y_val, y_val_pred_proba)\n",
        "f1 = f1_score(y_val, y_val_pred)\n",
        "precision = precision_score(y_val, y_val_pred)\n",
        "recall = recall_score(y_val, y_val_pred)\n",
        "accuracy = accuracy_score(y_val, y_val_pred)\n",
        "\n",
        "# Вывод метрик\n",
        "print(f\"Validation ROC AUC: {roc_auc:.4f}\")\n",
        "print(f\"F1 Score: {f1:.4f}\")\n",
        "print(f\"Precision: {precision:.4f}\")\n",
        "print(f\"Recall: {recall:.4f}\")\n",
        "print(f\"Accuracy: {accuracy:.4f}\")\n"
      ],
      "metadata": {
        "colab": {
          "base_uri": "https://localhost:8080/"
        },
        "id": "o9dWUU_ASfaf",
        "outputId": "2805daac-23b9-46eb-e66e-25c517631e91"
      },
      "execution_count": 388,
      "outputs": [
        {
          "output_type": "stream",
          "name": "stdout",
          "text": [
            "Validation ROC AUC: 0.8869\n",
            "F1 Score: 0.7274\n",
            "Precision: 0.7154\n",
            "Recall: 0.7399\n",
            "Accuracy: 0.7947\n"
          ]
        }
      ]
    },
    {
      "cell_type": "code",
      "source": [
        "# Предсказание вероятностей на тестовых данных\n",
        "with torch.no_grad():\n",
        "    test_predictions = model(X_test_tensor.to(device)).cpu().numpy()\n",
        "\n",
        "# Формирование файла отправки\n",
        "submission = pd.DataFrame({'id': test_data['id'], 'smoking': test_predictions.flatten()})\n",
        "submission.to_csv('submission.csv', index=False)\n"
      ],
      "metadata": {
        "id": "9LLBCDRDSmjz"
      },
      "execution_count": 389,
      "outputs": []
    }
  ]
}