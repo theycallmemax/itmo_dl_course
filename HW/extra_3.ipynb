{
  "cells": [
    {
      "cell_type": "code",
      "source": [
        "import kagglehub\n",
        "\n",
        "# Download latest version\n",
        "path = kagglehub.dataset_download(\"andrewmvd/trip-advisor-hotel-reviews\")\n",
        "\n",
        "print(\"Path to dataset files:\", path)"
      ],
      "metadata": {
        "colab": {
          "base_uri": "https://localhost:8080/"
        },
        "id": "SzEJ6GitoSAK",
        "outputId": "019e67bd-f227-41dc-ee02-289fe91299d2"
      },
      "execution_count": 1,
      "outputs": [
        {
          "output_type": "stream",
          "name": "stdout",
          "text": [
            "Downloading from https://www.kaggle.com/api/v1/datasets/download/andrewmvd/trip-advisor-hotel-reviews?dataset_version_number=2...\n"
          ]
        },
        {
          "output_type": "stream",
          "name": "stderr",
          "text": [
            "100%|██████████| 5.14M/5.14M [00:01<00:00, 3.95MB/s]"
          ]
        },
        {
          "output_type": "stream",
          "name": "stdout",
          "text": [
            "Extracting files...\n",
            "Path to dataset files: /root/.cache/kagglehub/datasets/andrewmvd/trip-advisor-hotel-reviews/versions/2\n"
          ]
        },
        {
          "output_type": "stream",
          "name": "stderr",
          "text": [
            "\n"
          ]
        }
      ]
    },
    {
      "cell_type": "code",
      "source": [
        "import pandas as pd\n",
        "import numpy as np\n",
        "from sklearn.model_selection import train_test_split\n",
        "from sklearn.preprocessing import LabelEncoder\n",
        "import torch\n",
        "from torch.utils.data import Dataset, DataLoader"
      ],
      "metadata": {
        "id": "RMPuIuZEo51R"
      },
      "execution_count": 50,
      "outputs": []
    },
    {
      "cell_type": "markdown",
      "source": [
        "Подгружаем данные"
      ],
      "metadata": {
        "id": "w7py6HbppDi4"
      }
    },
    {
      "cell_type": "code",
      "source": [
        "data = pd.read_csv(f\"{path}/tripadvisor_hotel_reviews.csv\")\n",
        "\n",
        "data.head()"
      ],
      "metadata": {
        "colab": {
          "base_uri": "https://localhost:8080/",
          "height": 204
        },
        "id": "0JCCdO9MpFGp",
        "outputId": "caaef9b7-633f-4955-907b-5b4e439c145c"
      },
      "execution_count": 51,
      "outputs": [
        {
          "output_type": "execute_result",
          "data": {
            "text/plain": [
              "                                              Review  Rating\n",
              "0  nice hotel expensive parking got good deal sta...       4\n",
              "1  ok nothing special charge diamond member hilto...       2\n",
              "2  nice rooms not 4* experience hotel monaco seat...       3\n",
              "3  unique, great stay, wonderful time hotel monac...       5\n",
              "4  great stay great stay, went seahawk game aweso...       5"
            ],
            "text/html": [
              "\n",
              "  <div id=\"df-cc3d564e-7c09-4ae0-b806-b6502769f3a2\" class=\"colab-df-container\">\n",
              "    <div>\n",
              "<style scoped>\n",
              "    .dataframe tbody tr th:only-of-type {\n",
              "        vertical-align: middle;\n",
              "    }\n",
              "\n",
              "    .dataframe tbody tr th {\n",
              "        vertical-align: top;\n",
              "    }\n",
              "\n",
              "    .dataframe thead th {\n",
              "        text-align: right;\n",
              "    }\n",
              "</style>\n",
              "<table border=\"1\" class=\"dataframe\">\n",
              "  <thead>\n",
              "    <tr style=\"text-align: right;\">\n",
              "      <th></th>\n",
              "      <th>Review</th>\n",
              "      <th>Rating</th>\n",
              "    </tr>\n",
              "  </thead>\n",
              "  <tbody>\n",
              "    <tr>\n",
              "      <th>0</th>\n",
              "      <td>nice hotel expensive parking got good deal sta...</td>\n",
              "      <td>4</td>\n",
              "    </tr>\n",
              "    <tr>\n",
              "      <th>1</th>\n",
              "      <td>ok nothing special charge diamond member hilto...</td>\n",
              "      <td>2</td>\n",
              "    </tr>\n",
              "    <tr>\n",
              "      <th>2</th>\n",
              "      <td>nice rooms not 4* experience hotel monaco seat...</td>\n",
              "      <td>3</td>\n",
              "    </tr>\n",
              "    <tr>\n",
              "      <th>3</th>\n",
              "      <td>unique, great stay, wonderful time hotel monac...</td>\n",
              "      <td>5</td>\n",
              "    </tr>\n",
              "    <tr>\n",
              "      <th>4</th>\n",
              "      <td>great stay great stay, went seahawk game aweso...</td>\n",
              "      <td>5</td>\n",
              "    </tr>\n",
              "  </tbody>\n",
              "</table>\n",
              "</div>\n",
              "    <div class=\"colab-df-buttons\">\n",
              "\n",
              "  <div class=\"colab-df-container\">\n",
              "    <button class=\"colab-df-convert\" onclick=\"convertToInteractive('df-cc3d564e-7c09-4ae0-b806-b6502769f3a2')\"\n",
              "            title=\"Convert this dataframe to an interactive table.\"\n",
              "            style=\"display:none;\">\n",
              "\n",
              "  <svg xmlns=\"http://www.w3.org/2000/svg\" height=\"24px\" viewBox=\"0 -960 960 960\">\n",
              "    <path d=\"M120-120v-720h720v720H120Zm60-500h600v-160H180v160Zm220 220h160v-160H400v160Zm0 220h160v-160H400v160ZM180-400h160v-160H180v160Zm440 0h160v-160H620v160ZM180-180h160v-160H180v160Zm440 0h160v-160H620v160Z\"/>\n",
              "  </svg>\n",
              "    </button>\n",
              "\n",
              "  <style>\n",
              "    .colab-df-container {\n",
              "      display:flex;\n",
              "      gap: 12px;\n",
              "    }\n",
              "\n",
              "    .colab-df-convert {\n",
              "      background-color: #E8F0FE;\n",
              "      border: none;\n",
              "      border-radius: 50%;\n",
              "      cursor: pointer;\n",
              "      display: none;\n",
              "      fill: #1967D2;\n",
              "      height: 32px;\n",
              "      padding: 0 0 0 0;\n",
              "      width: 32px;\n",
              "    }\n",
              "\n",
              "    .colab-df-convert:hover {\n",
              "      background-color: #E2EBFA;\n",
              "      box-shadow: 0px 1px 2px rgba(60, 64, 67, 0.3), 0px 1px 3px 1px rgba(60, 64, 67, 0.15);\n",
              "      fill: #174EA6;\n",
              "    }\n",
              "\n",
              "    .colab-df-buttons div {\n",
              "      margin-bottom: 4px;\n",
              "    }\n",
              "\n",
              "    [theme=dark] .colab-df-convert {\n",
              "      background-color: #3B4455;\n",
              "      fill: #D2E3FC;\n",
              "    }\n",
              "\n",
              "    [theme=dark] .colab-df-convert:hover {\n",
              "      background-color: #434B5C;\n",
              "      box-shadow: 0px 1px 3px 1px rgba(0, 0, 0, 0.15);\n",
              "      filter: drop-shadow(0px 1px 2px rgba(0, 0, 0, 0.3));\n",
              "      fill: #FFFFFF;\n",
              "    }\n",
              "  </style>\n",
              "\n",
              "    <script>\n",
              "      const buttonEl =\n",
              "        document.querySelector('#df-cc3d564e-7c09-4ae0-b806-b6502769f3a2 button.colab-df-convert');\n",
              "      buttonEl.style.display =\n",
              "        google.colab.kernel.accessAllowed ? 'block' : 'none';\n",
              "\n",
              "      async function convertToInteractive(key) {\n",
              "        const element = document.querySelector('#df-cc3d564e-7c09-4ae0-b806-b6502769f3a2');\n",
              "        const dataTable =\n",
              "          await google.colab.kernel.invokeFunction('convertToInteractive',\n",
              "                                                    [key], {});\n",
              "        if (!dataTable) return;\n",
              "\n",
              "        const docLinkHtml = 'Like what you see? Visit the ' +\n",
              "          '<a target=\"_blank\" href=https://colab.research.google.com/notebooks/data_table.ipynb>data table notebook</a>'\n",
              "          + ' to learn more about interactive tables.';\n",
              "        element.innerHTML = '';\n",
              "        dataTable['output_type'] = 'display_data';\n",
              "        await google.colab.output.renderOutput(dataTable, element);\n",
              "        const docLink = document.createElement('div');\n",
              "        docLink.innerHTML = docLinkHtml;\n",
              "        element.appendChild(docLink);\n",
              "      }\n",
              "    </script>\n",
              "  </div>\n",
              "\n",
              "\n",
              "<div id=\"df-5ad3c5e4-b7ca-4445-bf5a-f51529c6f032\">\n",
              "  <button class=\"colab-df-quickchart\" onclick=\"quickchart('df-5ad3c5e4-b7ca-4445-bf5a-f51529c6f032')\"\n",
              "            title=\"Suggest charts\"\n",
              "            style=\"display:none;\">\n",
              "\n",
              "<svg xmlns=\"http://www.w3.org/2000/svg\" height=\"24px\"viewBox=\"0 0 24 24\"\n",
              "     width=\"24px\">\n",
              "    <g>\n",
              "        <path d=\"M19 3H5c-1.1 0-2 .9-2 2v14c0 1.1.9 2 2 2h14c1.1 0 2-.9 2-2V5c0-1.1-.9-2-2-2zM9 17H7v-7h2v7zm4 0h-2V7h2v10zm4 0h-2v-4h2v4z\"/>\n",
              "    </g>\n",
              "</svg>\n",
              "  </button>\n",
              "\n",
              "<style>\n",
              "  .colab-df-quickchart {\n",
              "      --bg-color: #E8F0FE;\n",
              "      --fill-color: #1967D2;\n",
              "      --hover-bg-color: #E2EBFA;\n",
              "      --hover-fill-color: #174EA6;\n",
              "      --disabled-fill-color: #AAA;\n",
              "      --disabled-bg-color: #DDD;\n",
              "  }\n",
              "\n",
              "  [theme=dark] .colab-df-quickchart {\n",
              "      --bg-color: #3B4455;\n",
              "      --fill-color: #D2E3FC;\n",
              "      --hover-bg-color: #434B5C;\n",
              "      --hover-fill-color: #FFFFFF;\n",
              "      --disabled-bg-color: #3B4455;\n",
              "      --disabled-fill-color: #666;\n",
              "  }\n",
              "\n",
              "  .colab-df-quickchart {\n",
              "    background-color: var(--bg-color);\n",
              "    border: none;\n",
              "    border-radius: 50%;\n",
              "    cursor: pointer;\n",
              "    display: none;\n",
              "    fill: var(--fill-color);\n",
              "    height: 32px;\n",
              "    padding: 0;\n",
              "    width: 32px;\n",
              "  }\n",
              "\n",
              "  .colab-df-quickchart:hover {\n",
              "    background-color: var(--hover-bg-color);\n",
              "    box-shadow: 0 1px 2px rgba(60, 64, 67, 0.3), 0 1px 3px 1px rgba(60, 64, 67, 0.15);\n",
              "    fill: var(--button-hover-fill-color);\n",
              "  }\n",
              "\n",
              "  .colab-df-quickchart-complete:disabled,\n",
              "  .colab-df-quickchart-complete:disabled:hover {\n",
              "    background-color: var(--disabled-bg-color);\n",
              "    fill: var(--disabled-fill-color);\n",
              "    box-shadow: none;\n",
              "  }\n",
              "\n",
              "  .colab-df-spinner {\n",
              "    border: 2px solid var(--fill-color);\n",
              "    border-color: transparent;\n",
              "    border-bottom-color: var(--fill-color);\n",
              "    animation:\n",
              "      spin 1s steps(1) infinite;\n",
              "  }\n",
              "\n",
              "  @keyframes spin {\n",
              "    0% {\n",
              "      border-color: transparent;\n",
              "      border-bottom-color: var(--fill-color);\n",
              "      border-left-color: var(--fill-color);\n",
              "    }\n",
              "    20% {\n",
              "      border-color: transparent;\n",
              "      border-left-color: var(--fill-color);\n",
              "      border-top-color: var(--fill-color);\n",
              "    }\n",
              "    30% {\n",
              "      border-color: transparent;\n",
              "      border-left-color: var(--fill-color);\n",
              "      border-top-color: var(--fill-color);\n",
              "      border-right-color: var(--fill-color);\n",
              "    }\n",
              "    40% {\n",
              "      border-color: transparent;\n",
              "      border-right-color: var(--fill-color);\n",
              "      border-top-color: var(--fill-color);\n",
              "    }\n",
              "    60% {\n",
              "      border-color: transparent;\n",
              "      border-right-color: var(--fill-color);\n",
              "    }\n",
              "    80% {\n",
              "      border-color: transparent;\n",
              "      border-right-color: var(--fill-color);\n",
              "      border-bottom-color: var(--fill-color);\n",
              "    }\n",
              "    90% {\n",
              "      border-color: transparent;\n",
              "      border-bottom-color: var(--fill-color);\n",
              "    }\n",
              "  }\n",
              "</style>\n",
              "\n",
              "  <script>\n",
              "    async function quickchart(key) {\n",
              "      const quickchartButtonEl =\n",
              "        document.querySelector('#' + key + ' button');\n",
              "      quickchartButtonEl.disabled = true;  // To prevent multiple clicks.\n",
              "      quickchartButtonEl.classList.add('colab-df-spinner');\n",
              "      try {\n",
              "        const charts = await google.colab.kernel.invokeFunction(\n",
              "            'suggestCharts', [key], {});\n",
              "      } catch (error) {\n",
              "        console.error('Error during call to suggestCharts:', error);\n",
              "      }\n",
              "      quickchartButtonEl.classList.remove('colab-df-spinner');\n",
              "      quickchartButtonEl.classList.add('colab-df-quickchart-complete');\n",
              "    }\n",
              "    (() => {\n",
              "      let quickchartButtonEl =\n",
              "        document.querySelector('#df-5ad3c5e4-b7ca-4445-bf5a-f51529c6f032 button');\n",
              "      quickchartButtonEl.style.display =\n",
              "        google.colab.kernel.accessAllowed ? 'block' : 'none';\n",
              "    })();\n",
              "  </script>\n",
              "</div>\n",
              "\n",
              "    </div>\n",
              "  </div>\n"
            ],
            "application/vnd.google.colaboratory.intrinsic+json": {
              "type": "dataframe",
              "variable_name": "data",
              "summary": "{\n  \"name\": \"data\",\n  \"rows\": 20491,\n  \"fields\": [\n    {\n      \"column\": \"Review\",\n      \"properties\": {\n        \"dtype\": \"string\",\n        \"num_unique_values\": 20491,\n        \"samples\": [\n          \"not recommend hotel did reviewers actually stay hotel did, good thing hotel location really close leidseplein, shared facilities filthy got, did not look toilet floor cleaned month, facilities not cleaned 3 days got, disgusting, staff rude complained left night early refused refund night, not recommend hotel,  \",\n          \"barcelona rocks, stayed hotel jazz girlfriend 3 nights end august.the hotel excellent location carrer pelai, close placa catalunya ramblas appreciate buzz city removed respite mayhem crowds, caught airport bus barcelona costs 7 euros person return trip, hotel located 2 mins walk maximum placa universitat stop 2nd route, hotel modern clean, air conditioning room superb balcony looking street outside, room good size, bathroom fine scrimp bit toiletries, bring shower gels unless consider washing unnecessary luxury travels.the downside hotel possibly strengths depending viewpoint, hotel superbly situated 2 different metro stations extremely handy need city sights, downside feel rumbling trains hotel 3rd floor located, worse incessant sound taxi horns hotel mela times square nyc ca n't say disturbed consideration light sleepers irritation, couple shops hotel useful snacks drinks want avoid minibar prices, pool roof tiny n't recommend booking pretty nice place kill time particularly check day just wanted sit chill, n't expect able sit night, shuts fairly early.the hotel excellent 3 star property suggest prices pretty 4 star level, aside hotel tourist bus stopped directly opposite room recommend good way getting overview timer city want possible different areas, think used barcelona tours continuous loop alternative bus turistic 3 different loops involves changing bus round different areas.see gaudi, no fan architecture means, parc guell worth visit nice day n't mind walking uphill, sagrada familia outstanding, couple boat tours port harbour, personally bit underwhelming, save time money things.the nou camp tour worth visit no fan football, stadium amazing history club fascinating, plans redevelopment spectacle completed.ignore negative websites sprung make barcelona akin early days wild west, n't, just sensible major city, read ludicrous claims mark target muggers/pickpockets wore shorts/looked map/did n't speak spanish, rubbish, area ramblas felt safe, couple areas lower end raval little seedy late night just n't stupid fine, worst crime encountered charged 10 euros 2 heinekens irish bar just ramblas heard no-one eats restaurants 9 suffer lack atmosphere did, did n't appear strictly true concede 3 nights, tell restaurants open 8-8.30pm worth getting avoid queues, saturday night arrived restaurant 8.30 offered seat terrace opting window seat overlooking ramblas, 9 turning people away, 9.45 taken pick tables, burst activity 9 n't bad.enjoy,  \",\n          \"ok hotel good location stayed night way beijing rawa island, hotel service room ok. location great shopping restaurants, probably stay, opinion nice 3 star hotel,  \"\n        ],\n        \"semantic_type\": \"\",\n        \"description\": \"\"\n      }\n    },\n    {\n      \"column\": \"Rating\",\n      \"properties\": {\n        \"dtype\": \"number\",\n        \"std\": 1,\n        \"min\": 1,\n        \"max\": 5,\n        \"num_unique_values\": 5,\n        \"samples\": [\n          2,\n          1,\n          3\n        ],\n        \"semantic_type\": \"\",\n        \"description\": \"\"\n      }\n    }\n  ]\n}"
            }
          },
          "metadata": {},
          "execution_count": 51
        }
      ]
    },
    {
      "cell_type": "code",
      "source": [
        "label_encoder = LabelEncoder()\n",
        "data['Rating'] = label_encoder.fit_transform(data['Rating'])"
      ],
      "metadata": {
        "id": "9GgOecDoqMz2"
      },
      "execution_count": 52,
      "outputs": []
    },
    {
      "cell_type": "code",
      "source": [
        "# Разделение данных на признаки и метки\n",
        "X = data['Review']\n",
        "y = data['Rating']"
      ],
      "metadata": {
        "id": "oEJt_Dv2qPzy"
      },
      "execution_count": 53,
      "outputs": []
    },
    {
      "cell_type": "code",
      "source": [
        "# Разделение на обучающую, валидационную и тестовую выборки\n",
        "X_train, X_temp, y_train, y_temp = train_test_split(\n",
        "    X, y, test_size=0.4, stratify=y, random_state=42\n",
        ")\n",
        "X_val, X_test, y_val, y_test = train_test_split(\n",
        "    X_temp, y_temp, test_size=0.5, stratify=y_temp, random_state=42\n",
        ")\n",
        "\n",
        "print(f\"Train size: {len(X_train)}, Validation size: {len(X_val)}, Test size: {len(X_test)}\")"
      ],
      "metadata": {
        "colab": {
          "base_uri": "https://localhost:8080/"
        },
        "id": "dMPsBZ37qTcl",
        "outputId": "66ce959b-6418-45a2-b68e-64a1bb831b43"
      },
      "execution_count": 54,
      "outputs": [
        {
          "output_type": "stream",
          "name": "stdout",
          "text": [
            "Train size: 12294, Validation size: 4098, Test size: 4099\n"
          ]
        }
      ]
    },
    {
      "cell_type": "markdown",
      "source": [
        "Создание Dataset и DataLoader"
      ],
      "metadata": {
        "id": "r9pP9mNarTwq"
      }
    },
    {
      "cell_type": "code",
      "source": [
        "from transformers import AutoTokenizer"
      ],
      "metadata": {
        "id": "uvbXjiFtqaAq"
      },
      "execution_count": 55,
      "outputs": []
    },
    {
      "cell_type": "code",
      "source": [
        "# Используем токенизатор от HuggingFace\n",
        "tokenizer = AutoTokenizer.from_pretrained(\"bert-base-uncased\")"
      ],
      "metadata": {
        "id": "cRjtWqkoqcyA"
      },
      "execution_count": 56,
      "outputs": []
    },
    {
      "cell_type": "code",
      "source": [
        "# Dataset класс\n",
        "class ReviewDataset(Dataset):\n",
        "    def __init__(self, reviews, ratings, tokenizer, max_len=128):\n",
        "        self.reviews = reviews.tolist()\n",
        "        self.ratings = ratings.tolist()\n",
        "        self.tokenizer = tokenizer\n",
        "        self.max_len = max_len\n",
        "\n",
        "    def __len__(self):\n",
        "        return len(self.reviews)\n",
        "\n",
        "    def __getitem__(self, idx):\n",
        "        review = self.reviews[idx]\n",
        "        rating = self.ratings[idx]\n",
        "\n",
        "        tokens = self.tokenizer(\n",
        "            review,\n",
        "            max_length=self.max_len,\n",
        "            truncation=True,\n",
        "            padding=\"max_length\",\n",
        "            return_tensors=\"pt\",\n",
        "        )\n",
        "        return {\n",
        "            \"input_ids\": tokens[\"input_ids\"].squeeze(0),\n",
        "            \"attention_mask\": tokens[\"attention_mask\"].squeeze(0),\n",
        "            \"rating\": torch.tensor(rating, dtype=torch.long),\n",
        "        }"
      ],
      "metadata": {
        "id": "naK2RjeJqiJb"
      },
      "execution_count": 57,
      "outputs": []
    },
    {
      "cell_type": "code",
      "source": [
        "batch_size = 32\n",
        "train_dataset = ReviewDataset(X_train, y_train, tokenizer)\n",
        "val_dataset = ReviewDataset(X_val, y_val, tokenizer)\n",
        "test_dataset = ReviewDataset(X_test, y_test, tokenizer)"
      ],
      "metadata": {
        "id": "OUWjjF1yqnte"
      },
      "execution_count": 58,
      "outputs": []
    },
    {
      "cell_type": "code",
      "source": [
        "train_loader = DataLoader(train_dataset, batch_size=batch_size, shuffle=True)\n",
        "val_loader = DataLoader(val_dataset, batch_size=batch_size)\n",
        "test_loader = DataLoader(test_dataset, batch_size=batch_size)"
      ],
      "metadata": {
        "id": "cVG_XpEfqsEW"
      },
      "execution_count": 59,
      "outputs": []
    },
    {
      "cell_type": "markdown",
      "source": [
        "Сверточная сеть (Conv1d)"
      ],
      "metadata": {
        "id": "QVo7FL7ZrNpz"
      }
    },
    {
      "cell_type": "code",
      "source": [
        "import torch.nn as nn"
      ],
      "metadata": {
        "id": "nLaeTR1nqv0f"
      },
      "execution_count": 60,
      "outputs": []
    },
    {
      "cell_type": "markdown",
      "source": [
        "Фиксируем сид"
      ],
      "metadata": {
        "id": "12zXDqBWuvxp"
      }
    },
    {
      "cell_type": "code",
      "source": [
        "import random\n",
        "\n",
        "def set_seed(seed: int = 42) -> None:\n",
        "    np.random.seed(seed)\n",
        "    random.seed(seed)\n",
        "    torch.manual_seed(seed)\n",
        "    torch.cuda.manual_seed(seed)\n",
        "    # When running on the CuDNN backend, two further options must be set\n",
        "    torch.backends.cudnn.deterministic = True\n",
        "    torch.backends.cudnn.benchmark = False\n",
        "    # Set a fixed value for the hash seed\n",
        "    os.environ[\"PYTHONHASHSEED\"] = str(seed)\n",
        "    print(f\"Random seed set as {seed}\")\n",
        "\n",
        "set_seed(42)"
      ],
      "metadata": {
        "colab": {
          "base_uri": "https://localhost:8080/"
        },
        "id": "CJjIG3M1uvIS",
        "outputId": "6b282782-f808-4347-9110-dbf3c336d31a"
      },
      "execution_count": 61,
      "outputs": [
        {
          "output_type": "stream",
          "name": "stdout",
          "text": [
            "Random seed set as 42\n"
          ]
        }
      ]
    },
    {
      "cell_type": "code",
      "source": [
        "class ConvNet(nn.Module):\n",
        "    def __init__(self, vocab_size, embedding_dim, num_classes):\n",
        "        super(ConvNet, self).__init__()\n",
        "        self.embedding = nn.Embedding(vocab_size, embedding_dim)\n",
        "        self.conv1 = nn.Conv1d(embedding_dim, 128, kernel_size=5, padding=2)\n",
        "        self.relu = nn.ReLU()\n",
        "        self.pool = nn.MaxPool1d(kernel_size=2)\n",
        "        self.fc = nn.Linear(128 * (128 // 2), num_classes)\n",
        "\n",
        "    def forward(self, input_ids):\n",
        "        x = self.embedding(input_ids).permute(0, 2, 1)  # [B, E, T]\n",
        "        x = self.conv1(x)\n",
        "        x = self.relu(x)\n",
        "        x = self.pool(x)\n",
        "        x = x.view(x.size(0), -1)\n",
        "        x = self.fc(x)\n",
        "        return x\n"
      ],
      "metadata": {
        "id": "KPIaBQ4cq1Hz"
      },
      "execution_count": 62,
      "outputs": []
    },
    {
      "cell_type": "code",
      "source": [
        "# Гиперпараметры\n",
        "vocab_size = len(tokenizer)\n",
        "embedding_dim = 100\n",
        "num_classes = len(np.unique(y))\n",
        "\n",
        "model_conv = ConvNet(vocab_size, embedding_dim, num_classes)\n",
        "print(model_conv)"
      ],
      "metadata": {
        "colab": {
          "base_uri": "https://localhost:8080/"
        },
        "id": "96ibAcndq5YE",
        "outputId": "2f4e2d67-cdbb-4307-b1d8-a169ff254875"
      },
      "execution_count": 63,
      "outputs": [
        {
          "output_type": "stream",
          "name": "stdout",
          "text": [
            "ConvNet(\n",
            "  (embedding): Embedding(30522, 100)\n",
            "  (conv1): Conv1d(100, 128, kernel_size=(5,), stride=(1,), padding=(2,))\n",
            "  (relu): ReLU()\n",
            "  (pool): MaxPool1d(kernel_size=2, stride=2, padding=0, dilation=1, ceil_mode=False)\n",
            "  (fc): Linear(in_features=8192, out_features=5, bias=True)\n",
            ")\n"
          ]
        }
      ]
    },
    {
      "cell_type": "markdown",
      "source": [
        "Рекуррентная сеть (LSTM)"
      ],
      "metadata": {
        "id": "b_8XXzpvrbOz"
      }
    },
    {
      "cell_type": "code",
      "source": [
        "class LSTMNet(nn.Module):\n",
        "    def __init__(self, vocab_size, embedding_dim, hidden_dim, num_classes):\n",
        "        super(LSTMNet, self).__init__()\n",
        "        self.embedding = nn.Embedding(vocab_size, embedding_dim)\n",
        "        self.lstm = nn.LSTM(embedding_dim, hidden_dim, batch_first=True)\n",
        "        self.fc = nn.Linear(hidden_dim, num_classes)\n",
        "\n",
        "    def forward(self, input_ids):\n",
        "        x = self.embedding(input_ids)\n",
        "        _, (hidden, _) = self.lstm(x)\n",
        "        x = self.fc(hidden[-1])\n",
        "        return x\n",
        "\n",
        "hidden_dim = 128\n",
        "model_lstm = LSTMNet(vocab_size, embedding_dim, hidden_dim, num_classes)\n",
        "print(model_lstm)\n"
      ],
      "metadata": {
        "colab": {
          "base_uri": "https://localhost:8080/"
        },
        "id": "Z68araYKq9gh",
        "outputId": "56222389-5cf1-484d-b775-3966203c1d91"
      },
      "execution_count": 64,
      "outputs": [
        {
          "output_type": "stream",
          "name": "stdout",
          "text": [
            "LSTMNet(\n",
            "  (embedding): Embedding(30522, 100)\n",
            "  (lstm): LSTM(100, 128, batch_first=True)\n",
            "  (fc): Linear(in_features=128, out_features=5, bias=True)\n",
            ")\n"
          ]
        }
      ]
    },
    {
      "cell_type": "markdown",
      "source": [
        "Обучим модели и сравним метрики"
      ],
      "metadata": {
        "id": "kIBXlio8rpGy"
      }
    },
    {
      "cell_type": "code",
      "source": [
        "import torch.optim as optim\n",
        "from sklearn.metrics import accuracy_score, f1_score"
      ],
      "metadata": {
        "id": "4_0Hpk6qrIKy"
      },
      "execution_count": 65,
      "outputs": []
    },
    {
      "cell_type": "code",
      "source": [
        "# Функция для обучения модели\n",
        "def train_model(model, train_loader, val_loader, criterion, optimizer, num_epochs=5):\n",
        "    train_loss, val_loss = [], []\n",
        "    train_acc, val_acc = [], []\n",
        "    train_f1, val_f1 = [], []\n",
        "\n",
        "    device = torch.device(\"cuda\" if torch.cuda.is_available() else \"cpu\")\n",
        "    model.to(device)\n",
        "\n",
        "    for epoch in range(num_epochs):\n",
        "        # Обучение\n",
        "        model.train()\n",
        "        running_loss, correct, total = 0.0, 0, 0\n",
        "        y_true, y_pred = [], []\n",
        "        for batch in train_loader:\n",
        "            inputs = batch[\"input_ids\"].to(device)\n",
        "            targets = batch[\"rating\"].to(device)\n",
        "            optimizer.zero_grad()\n",
        "            outputs = model(inputs)\n",
        "\n",
        "            loss = criterion(outputs, targets)\n",
        "            loss.backward()\n",
        "            optimizer.step()\n",
        "\n",
        "            running_loss += loss.item()\n",
        "            _, predicted = outputs.max(1)\n",
        "            total += targets.size(0)\n",
        "            correct += predicted.eq(targets).sum().item()\n",
        "\n",
        "            y_true.extend(targets.cpu().numpy())\n",
        "            y_pred.extend(predicted.cpu().numpy())\n",
        "\n",
        "        epoch_loss = running_loss / len(train_loader)\n",
        "        train_loss.append(epoch_loss)\n",
        "        train_acc.append(accuracy_score(y_true, y_pred))\n",
        "        train_f1.append(f1_score(y_true, y_pred, average=\"weighted\"))\n",
        "\n",
        "        # Валидация\n",
        "        model.eval()\n",
        "        running_loss, correct, total = 0.0, 0, 0\n",
        "        y_true, y_pred = [], []\n",
        "        with torch.no_grad():\n",
        "            for batch in val_loader:\n",
        "                inputs = batch[\"input_ids\"].to(device)\n",
        "                targets = batch[\"rating\"].to(device)\n",
        "                outputs = model(inputs)\n",
        "\n",
        "                loss = criterion(outputs, targets)\n",
        "                running_loss += loss.item()\n",
        "                _, predicted = outputs.max(1)\n",
        "\n",
        "                y_true.extend(targets.cpu().numpy())\n",
        "                y_pred.extend(predicted.cpu().numpy())\n",
        "\n",
        "        epoch_loss = running_loss / len(val_loader)\n",
        "        val_loss.append(epoch_loss)\n",
        "        val_acc.append(accuracy_score(y_true, y_pred))\n",
        "        val_f1.append(f1_score(y_true, y_pred, average=\"weighted\"))\n",
        "\n",
        "        print(\n",
        "            f\"Epoch {epoch+1}/{num_epochs}: \"\n",
        "            f\"Train Loss: {train_loss[-1]:.4f}, Val Loss: {val_loss[-1]:.4f}, \"\n",
        "            f\"Train Acc: {train_acc[-1]:.4f}, Val Acc: {val_acc[-1]:.4f}, \"\n",
        "            f\"Train F1: {train_f1[-1]:.4f}, Val F1: {val_f1[-1]:.4f}\"\n",
        "        )\n",
        "\n",
        "    return train_loss, val_loss, train_acc, val_acc, train_f1, val_f1"
      ],
      "metadata": {
        "id": "2dLwqMaUriiQ"
      },
      "execution_count": 66,
      "outputs": []
    },
    {
      "cell_type": "code",
      "source": [
        "# Параметры\n",
        "criterion = nn.CrossEntropyLoss()\n",
        "num_epochs = 10"
      ],
      "metadata": {
        "id": "Exbfz64JrnqG"
      },
      "execution_count": 67,
      "outputs": []
    },
    {
      "cell_type": "code",
      "source": [
        "# Обучение ConvNet\n",
        "optimizer_conv = optim.Adam(model_conv.parameters(), lr=1e-3)\n",
        "print(\"Training ConvNet...\")\n",
        "train_loss_conv, val_loss_conv, train_acc_conv, val_acc_conv, train_f1_conv, val_f1_conv = train_model(\n",
        "    model_conv, train_loader, val_loader, criterion, optimizer_conv, num_epochs\n",
        ")"
      ],
      "metadata": {
        "colab": {
          "base_uri": "https://localhost:8080/"
        },
        "id": "StRsRl-AsCip",
        "outputId": "87ac50d2-23c7-41a0-b646-5903061c9f6d"
      },
      "execution_count": 68,
      "outputs": [
        {
          "output_type": "stream",
          "name": "stdout",
          "text": [
            "Training ConvNet...\n",
            "Epoch 1/10: Train Loss: 1.2248, Val Loss: 1.1465, Train Acc: 0.4945, Val Acc: 0.5434, Train F1: 0.4628, Val F1: 0.4869\n",
            "Epoch 2/10: Train Loss: 0.6735, Val Loss: 1.1602, Train Acc: 0.7370, Val Acc: 0.5451, Train F1: 0.7335, Val F1: 0.5284\n",
            "Epoch 3/10: Train Loss: 0.2590, Val Loss: 1.4456, Train Acc: 0.9148, Val Acc: 0.5378, Train F1: 0.9145, Val F1: 0.5269\n",
            "Epoch 4/10: Train Loss: 0.0795, Val Loss: 1.6463, Train Acc: 0.9833, Val Acc: 0.5317, Train F1: 0.9833, Val F1: 0.5281\n",
            "Epoch 5/10: Train Loss: 0.0210, Val Loss: 1.6989, Train Acc: 0.9989, Val Acc: 0.5537, Train F1: 0.9989, Val F1: 0.5444\n",
            "Epoch 6/10: Train Loss: 0.0075, Val Loss: 1.7626, Train Acc: 1.0000, Val Acc: 0.5564, Train F1: 1.0000, Val F1: 0.5484\n",
            "Epoch 7/10: Train Loss: 0.0042, Val Loss: 1.8464, Train Acc: 1.0000, Val Acc: 0.5630, Train F1: 1.0000, Val F1: 0.5509\n",
            "Epoch 8/10: Train Loss: 0.0028, Val Loss: 1.8997, Train Acc: 1.0000, Val Acc: 0.5595, Train F1: 1.0000, Val F1: 0.5513\n",
            "Epoch 9/10: Train Loss: 0.0020, Val Loss: 1.9510, Train Acc: 1.0000, Val Acc: 0.5595, Train F1: 1.0000, Val F1: 0.5516\n",
            "Epoch 10/10: Train Loss: 0.0015, Val Loss: 2.0210, Train Acc: 1.0000, Val Acc: 0.5598, Train F1: 1.0000, Val F1: 0.5487\n"
          ]
        }
      ]
    },
    {
      "cell_type": "code",
      "source": [
        "# Обучение LSTMNet\n",
        "optimizer_lstm = optim.Adam(model_lstm.parameters(), lr=1e-3)\n",
        "print(\"\\nTraining LSTMNet...\")\n",
        "train_loss_lstm, val_loss_lstm, train_acc_lstm, val_acc_lstm, train_f1_lstm, val_f1_lstm = train_model(\n",
        "    model_lstm, train_loader, val_loader, criterion, optimizer_lstm, num_epochs\n",
        ")"
      ],
      "metadata": {
        "colab": {
          "base_uri": "https://localhost:8080/"
        },
        "id": "1vodtNhosFfr",
        "outputId": "fcc0cd6c-9f3b-4f7b-b08c-bf95733a2e1c"
      },
      "execution_count": 69,
      "outputs": [
        {
          "output_type": "stream",
          "name": "stdout",
          "text": [
            "\n",
            "Training LSTMNet...\n",
            "Epoch 1/10: Train Loss: 1.3592, Val Loss: 1.3392, Train Acc: 0.4375, Val Acc: 0.4422, Train F1: 0.2838, Val F1: 0.3099\n",
            "Epoch 2/10: Train Loss: 1.3283, Val Loss: 1.3152, Train Acc: 0.4483, Val Acc: 0.4434, Train F1: 0.3260, Val F1: 0.3193\n",
            "Epoch 3/10: Train Loss: 1.2292, Val Loss: 1.2011, Train Acc: 0.4741, Val Acc: 0.4671, Train F1: 0.3938, Val F1: 0.3974\n",
            "Epoch 4/10: Train Loss: 1.0625, Val Loss: 1.1573, Train Acc: 0.5381, Val Acc: 0.4756, Train F1: 0.4908, Val F1: 0.4505\n",
            "Epoch 5/10: Train Loss: 0.9266, Val Loss: 1.0859, Train Acc: 0.5962, Val Acc: 0.5259, Train F1: 0.5763, Val F1: 0.4978\n",
            "Epoch 6/10: Train Loss: 0.7990, Val Loss: 1.0956, Train Acc: 0.6601, Val Acc: 0.5259, Train F1: 0.6515, Val F1: 0.5277\n",
            "Epoch 7/10: Train Loss: 0.6881, Val Loss: 1.1447, Train Acc: 0.7187, Val Acc: 0.5427, Train F1: 0.7136, Val F1: 0.5252\n",
            "Epoch 8/10: Train Loss: 0.5739, Val Loss: 1.2319, Train Acc: 0.7684, Val Acc: 0.5334, Train F1: 0.7649, Val F1: 0.5373\n",
            "Epoch 9/10: Train Loss: 0.4665, Val Loss: 1.3705, Train Acc: 0.8224, Val Acc: 0.5439, Train F1: 0.8207, Val F1: 0.5408\n",
            "Epoch 10/10: Train Loss: 0.3758, Val Loss: 1.5576, Train Acc: 0.8648, Val Acc: 0.5532, Train F1: 0.8639, Val F1: 0.5371\n"
          ]
        }
      ]
    },
    {
      "cell_type": "markdown",
      "source": [
        "Сравнение метрик"
      ],
      "metadata": {
        "id": "Ir6tEYnHsIht"
      }
    },
    {
      "cell_type": "code",
      "source": [
        "def evaluate_model(model, test_loader):\n",
        "    model.eval()\n",
        "    device = torch.device(\"cuda\" if torch.cuda.is_available() else \"cpu\")\n",
        "    y_true, y_pred = [], []\n",
        "    with torch.no_grad():\n",
        "        for batch in test_loader:\n",
        "            inputs = batch[\"input_ids\"].to(device)\n",
        "            targets = batch[\"rating\"].to(device)\n",
        "            outputs = model(inputs)\n",
        "            _, predicted = outputs.max(1)\n",
        "            y_true.extend(targets.cpu().numpy())\n",
        "            y_pred.extend(predicted.cpu().numpy())\n",
        "\n",
        "    test_acc = accuracy_score(y_true, y_pred)\n",
        "    test_f1 = f1_score(y_true, y_pred, average=\"weighted\")\n",
        "    return test_acc, test_f1\n"
      ],
      "metadata": {
        "id": "J0nBDQrIsPUD"
      },
      "execution_count": 70,
      "outputs": []
    },
    {
      "cell_type": "code",
      "source": [
        "# Оценка ConvNet\n",
        "test_acc_conv, test_f1_conv = evaluate_model(model_conv, test_loader)\n",
        "print(f\"ConvNet Test Accuracy: {test_acc_conv:.4f}, F1-Score: {test_f1_conv:.4f}\")\n",
        "\n",
        "# Оценка LSTMNet\n",
        "test_acc_lstm, test_f1_lstm = evaluate_model(model_lstm, test_loader)\n",
        "print(f\"LSTMNet Test Accuracy: {test_acc_lstm:.4f}, F1-Score: {test_f1_lstm:.4f}\")"
      ],
      "metadata": {
        "colab": {
          "base_uri": "https://localhost:8080/"
        },
        "id": "geQas38NsM9j",
        "outputId": "30285d0f-da63-4b79-969a-b88bee398542"
      },
      "execution_count": 71,
      "outputs": [
        {
          "output_type": "stream",
          "name": "stdout",
          "text": [
            "ConvNet Test Accuracy: 0.5592, F1-Score: 0.5494\n",
            "LSTMNet Test Accuracy: 0.5533, F1-Score: 0.5388\n"
          ]
        }
      ]
    },
    {
      "cell_type": "code",
      "source": [
        "import matplotlib.pyplot as plt\n",
        "\n",
        "# Loss\n",
        "plt.figure(figsize=(10, 5))\n",
        "plt.plot(train_loss_conv, label=\"ConvNet Train Loss\")\n",
        "plt.plot(val_loss_conv, label=\"ConvNet Val Loss\")\n",
        "plt.plot(train_loss_lstm, label=\"LSTMNet Train Loss\")\n",
        "plt.plot(val_loss_lstm, label=\"LSTMNet Val Loss\")\n",
        "plt.legend()\n",
        "plt.title(\"Loss Comparison\")\n",
        "plt.show()\n",
        "\n",
        "# Accuracy\n",
        "plt.figure(figsize=(10, 5))\n",
        "plt.plot(train_acc_conv, label=\"ConvNet Train Acc\")\n",
        "plt.plot(val_acc_conv, label=\"ConvNet Val Acc\")\n",
        "plt.plot(train_acc_lstm, label=\"LSTMNet Train Acc\")\n",
        "plt.plot(val_acc_lstm, label=\"LSTMNet Val Acc\")\n",
        "plt.legend()\n",
        "plt.title(\"Accuracy Comparison\")\n",
        "plt.show()\n"
      ],
      "metadata": {
        "colab": {
          "base_uri": "https://localhost:8080/",
          "height": 919
        },
        "id": "WxGn9dzNsSL7",
        "outputId": "844e4521-0555-42cf-cf95-12387eded59c"
      },
      "execution_count": 72,
      "outputs": [
        {
          "output_type": "display_data",
          "data": {
            "text/plain": [
              "<Figure size 1000x500 with 1 Axes>"
            ],
            "image/png": "[encoded data removed]"
          },
          "metadata": {}
        },
        {
          "output_type": "display_data",
          "data": {
            "text/plain": [
              "<Figure size 1000x500 with 1 Axes>"
            ],
            "image/png": "[encoded data removed]"
          },
          "metadata": {}
        }
      ]
    },
    {
      "cell_type": "markdown",
      "source": [
        "## Выводы\n",
        "\n",
        "1. **Переобучение ConvNet**:\n",
        "   - ConvNet демонстрирует высокую обучающую точность (100%), но ошибка на валидации растет, что указывает на переобучение.\n",
        "   - Решения: добавить Dropout, увеличить регуляризацию (weight decay), использовать Early Stopping, или обогатить данные с помощью data augmentation.\n",
        "\n",
        "2. **Медленная сходимость LSTMNet**:\n",
        "   - LSTMNet обучается медленно, особенно в начальных эпохах, и показывает более низкую точность, чем ConvNet.\n",
        "   - Решения: использовать двунаправленный LSTM, увеличить hidden_dim, попробовать GRU, а также оптимизировать гиперпараметры.\n",
        "\n",
        "3. **Улучшение качества данных**:\n",
        "   - Использование предобученных эмбеддингов (например, GloVe или Word2Vec) и увеличение длины токенов (max_len) может улучшить результаты обеих моделей.\n",
        "\n",
        "4. **Общее сравнение**:\n",
        "   - ConvNet быстрее обучается и достигает лучших результатов, но переобучается.\n",
        "   - LSTMNet стабильнее, но требует больше времени и точной настройки гиперпараметров для достижения сравнимой точности.\n"
      ],
      "metadata": {
        "id": "izzCtB2qxToO"
      }
    },
    {
      "cell_type": "markdown",
      "source": [
        "# Почему batch_size = 32\n",
        "\n",
        "1. **Баланс стабильности и производительности**:\n",
        "   - Обеспечивает точное обновление весов и устойчивое обучение.\n",
        "   - Эффективно использует вычислительные ресурсы (GPU).\n",
        "\n",
        "2. **Обобщающая способность**:\n",
        "   - Малый размер batch_size помогает избежать переобучения.\n",
        "   - Позволяет модели лучше находить глобальные минимумы."
      ],
      "metadata": {
        "id": "g9hbrvbgyNW6"
      }
    }
  ],
  "metadata": {
    "accelerator": "GPU",
    "colab": {
      "gpuType": "T4",
      "provenance": []
    },
    "kernelspec": {
      "display_name": "Python 3",
      "name": "python3"
    },
    "language_info": {
      "name": "python"
    }
  },
  "nbformat": 4,
  "nbformat_minor": 0
}